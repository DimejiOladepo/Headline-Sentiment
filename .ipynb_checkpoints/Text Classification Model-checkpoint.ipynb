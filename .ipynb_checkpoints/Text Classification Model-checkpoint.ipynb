{
 "cells": [
  {
   "cell_type": "code",
   "execution_count": 2,
   "metadata": {},
   "outputs": [],
   "source": [
    "#Import Libraries\n",
    "import numpy as np \n",
    "import pandas as pd \n",
    "import re\n",
    "import nltk \n",
    "import matplotlib.pyplot as plt\n",
    "%matplotlib inline"
   ]
  },
  {
   "cell_type": "code",
   "execution_count": 3,
   "metadata": {},
   "outputs": [],
   "source": [
    "#Importing the dataset\n",
    "data = \"the_news_headline_labeled_data.csv\"\n",
    "news_headlines = pd.read_csv(data)"
   ]
  },
  {
   "cell_type": "code",
   "execution_count": 4,
   "metadata": {},
   "outputs": [
    {
     "data": {
      "text/html": [
       "<div>\n",
       "<style scoped>\n",
       "    .dataframe tbody tr th:only-of-type {\n",
       "        vertical-align: middle;\n",
       "    }\n",
       "\n",
       "    .dataframe tbody tr th {\n",
       "        vertical-align: top;\n",
       "    }\n",
       "\n",
       "    .dataframe thead th {\n",
       "        text-align: right;\n",
       "    }\n",
       "</style>\n",
       "<table border=\"1\" class=\"dataframe\">\n",
       "  <thead>\n",
       "    <tr style=\"text-align: right;\">\n",
       "      <th></th>\n",
       "      <th>TEXT</th>\n",
       "      <th>LABEL</th>\n",
       "    </tr>\n",
       "  </thead>\n",
       "  <tbody>\n",
       "    <tr>\n",
       "      <th>0</th>\n",
       "      <td>b\"Mexican presidential front-runner hits back ...</td>\n",
       "      <td>Negative</td>\n",
       "    </tr>\n",
       "    <tr>\n",
       "      <th>1</th>\n",
       "      <td>b\"Cramer reflects on how Trump's actions are f...</td>\n",
       "      <td>Positive</td>\n",
       "    </tr>\n",
       "    <tr>\n",
       "      <th>2</th>\n",
       "      <td>b'The Wall Street Journal: Peter Thiels VC fir...</td>\n",
       "      <td>Positive</td>\n",
       "    </tr>\n",
       "    <tr>\n",
       "      <th>3</th>\n",
       "      <td>b'WSJ Wealth Adviser Briefing: Catchy Tickers,...</td>\n",
       "      <td>Even</td>\n",
       "    </tr>\n",
       "    <tr>\n",
       "      <th>4</th>\n",
       "      <td>b'Apple proved that it is no longer just an iP...</td>\n",
       "      <td>Even</td>\n",
       "    </tr>\n",
       "  </tbody>\n",
       "</table>\n",
       "</div>"
      ],
      "text/plain": [
       "                                                TEXT     LABEL\n",
       "0  b\"Mexican presidential front-runner hits back ...  Negative\n",
       "1  b\"Cramer reflects on how Trump's actions are f...  Positive\n",
       "2  b'The Wall Street Journal: Peter Thiels VC fir...  Positive\n",
       "3  b'WSJ Wealth Adviser Briefing: Catchy Tickers,...      Even\n",
       "4  b'Apple proved that it is no longer just an iP...      Even"
      ]
     },
     "execution_count": 4,
     "metadata": {},
     "output_type": "execute_result"
    }
   ],
   "source": [
    "news_headlines.head()"
   ]
  },
  {
   "cell_type": "code",
   "execution_count": 39,
   "metadata": {},
   "outputs": [
    {
     "data": {
      "text/plain": [
       "<matplotlib.axes._subplots.AxesSubplot at 0x22af1359f60>"
      ]
     },
     "execution_count": 39,
     "metadata": {},
     "output_type": "execute_result"
    },
    {
     "data": {
      "image/png": "[encoded data removed]",
      "text/plain": [
       "<Figure size 360x360 with 1 Axes>"
      ]
     },
     "metadata": {},
     "output_type": "display_data"
    }
   ],
   "source": [
    "# Plotting Label Pie chart \n",
    "plot_size = plt.rcParams[\"figure.figsize\"]\n",
    "\n",
    "plot_size[0] = 5\n",
    "plot_size[1] = 5\n",
    "plt.rcParams[\"figure.figsize\"] = plot_size\n",
    "\n",
    "news_headlines.LABEL.value_counts().plot(kind='pie', autopct='%1.0f%%', colors=[\"yellow\", \"red\", \"green\"])"
   ]
  },
  {
   "cell_type": "code",
   "execution_count": 6,
   "metadata": {},
   "outputs": [],
   "source": [
    "#Creating feature and label set\n",
    "features = news_headlines.iloc[:,0].values\n",
    "labels = news_headlines.iloc[:, 1].values"
   ]
  },
  {
   "cell_type": "code",
   "execution_count": 40,
   "metadata": {},
   "outputs": [],
   "source": [
    "#Pre-processing and cleaning the dataset using regular expressions\n",
    "processed_features = []\n",
    "\n",
    "for sentence in range(0, len(features)):\n",
    "    # Remove all the special characters\n",
    "    processed_feature = re.sub(r'\\W', ' ', str(features[sentence]))\n",
    "\n",
    "    # remove all single characters\n",
    "    processed_feature= re.sub(r'\\s+[a-zA-Z]\\s+', ' ', processed_feature)\n",
    "\n",
    "    # Remove single characters from the start\n",
    "    processed_feature = re.sub(r'\\^[a-zA-Z]\\s+', ' ', processed_feature) \n",
    "\n",
    "    # Substituting multiple spaces with single space\n",
    "    processed_feature = re.sub(r'\\s+', ' ', processed_feature, flags=re.I)\n",
    "\n",
    "    # Removing prefixed 'b'\n",
    "    processed_feature = re.sub(r'^b\\s+', '', processed_feature)\n",
    "\n",
    "    # Converting to Lowercase\n",
    "    processed_feature = processed_feature.lower()\n",
    "\n",
    "    processed_features.append(processed_feature)"
   ]
  },
  {
   "cell_type": "code",
   "execution_count": 8,
   "metadata": {},
   "outputs": [],
   "source": [
    "# Transforming labels strings to categorical integers and splitting the dataset into training and test sets without conversion \n",
    "from sklearn.preprocessing import LabelEncoder\n",
    "lb_make = LabelEncoder()\n",
    "\n",
    "Validation_split = 0.2\n",
    "\n",
    "num_validation_samples = int(Validation_split * np.asarray(processed_features).shape[0])\n",
    "\n",
    "x_train = processed_features[:-num_validation_samples]\n",
    "x_test = processed_features[-num_validation_samples:]\n",
    "Y_train = lb_make.fit_transform(labels[:-num_validation_samples])\n",
    "Y_test = lb_make.fit_transform(labels[-num_validation_samples:])"
   ]
  },
  {
   "cell_type": "code",
   "execution_count": 9,
   "metadata": {},
   "outputs": [
    {
     "name": "stderr",
     "output_type": "stream",
     "text": [
      "C:\\Users\\Oladimeji\\Anaconda3\\lib\\site-packages\\h5py\\__init__.py:36: FutureWarning: Conversion of the second argument of issubdtype from `float` to `np.floating` is deprecated. In future, it will be treated as `np.float64 == np.dtype(float).type`.\n",
      "  from ._conv import register_converters as _register_converters\n"
     ]
    }
   ],
   "source": [
    "#Learning Embeddings \n",
    "# Tokenizing sentences using Keras  \n",
    "from tensorflow.python.keras.preprocessing.text import Tokenizer\n",
    "from tensorflow.python.keras.preprocessing.sequence import pad_sequences\n",
    "\n",
    "tokenizer_obj = Tokenizer()\n",
    "tokenizer_obj.fit_on_texts(processed_feature)\n",
    "\n",
    "#Determining number of words in largest sentence and vocabulary size of the corpus\n",
    "max_length = max([len(sentence.split()) for sentence in processed_feature])\n",
    "\n",
    "vocab_size = len(tokenizer_obj.word_index) + 1\n"
   ]
  },
  {
   "cell_type": "code",
   "execution_count": 10,
   "metadata": {},
   "outputs": [],
   "source": [
    "#Converting sentences in train and test sets to sequences\n",
    "x_train_tokens = tokenizer_obj.texts_to_sequences(x_train)\n",
    "x_test_tokens = tokenizer_obj.texts_to_sequences(x_test)\n",
    "\n",
    "#Padding to make sure all the vectors are the same length \n",
    "x_train_pad = pad_sequences(x_train_tokens, maxlen= max_length, padding= 'post')\n",
    "x_test_pad = pad_sequences(x_test_tokens, maxlen= max_length, padding= 'post')"
   ]
  },
  {
   "cell_type": "code",
   "execution_count": 11,
   "metadata": {},
   "outputs": [
    {
     "name": "stdout",
     "output_type": "stream",
     "text": [
      "Build model...\n",
      "WARNING:tensorflow:From C:\\Users\\Oladimeji\\Anaconda3\\lib\\site-packages\\tensorflow\\python\\ops\\resource_variable_ops.py:435: colocate_with (from tensorflow.python.framework.ops) is deprecated and will be removed in a future version.\n",
      "Instructions for updating:\n",
      "Colocations handled automatically by placer.\n",
      "WARNING:tensorflow:From C:\\Users\\Oladimeji\\Anaconda3\\lib\\site-packages\\tensorflow\\python\\keras\\backend.py:4010: calling dropout (from tensorflow.python.ops.nn_ops) with keep_prob is deprecated and will be removed in a future version.\n",
      "Instructions for updating:\n",
      "Please use `rate` instead of `keep_prob`. Rate should be set to `rate = 1 - keep_prob`.\n"
     ]
    }
   ],
   "source": [
    "# importing libraries for deep neural network\n",
    "from tensorflow.python.keras.models import Sequential\n",
    "from tensorflow.python.keras.layers import Dense, Embedding, LSTM, GRU\n",
    "from tensorflow.python.keras.layers.embeddings import Embedding\n",
    "\n",
    "EMBEDDING_DIM = 100\n",
    "\n",
    "print('Build model...')\n",
    "\n",
    "#Defining neural network using embedding layer as hidden layer with random weights initialized.\n",
    "model = Sequential()\n",
    "model.add(Embedding(vocab_size, EMBEDDING_DIM, input_length = max_length))\n",
    "model.add(GRU(units=32, dropout= 0.2, recurrent_dropout= 0.2))\n",
    "model.add(Dense(1, activation= 'relu'))\n",
    "\n",
    "model.compile(loss= 'binary_crossentropy', optimizer = 'adam', metrics = ['accuracy'])"
   ]
  },
  {
   "cell_type": "code",
   "execution_count": 12,
   "metadata": {},
   "outputs": [
    {
     "name": "stdout",
     "output_type": "stream",
     "text": [
      "_________________________________________________________________\n",
      "Layer (type)                 Output Shape              Param #   \n",
      "=================================================================\n",
      "embedding (Embedding)        (None, 1, 100)            2300      \n",
      "_________________________________________________________________\n",
      "gru (GRU)                    (None, 32)                12768     \n",
      "_________________________________________________________________\n",
      "dense (Dense)                (None, 1)                 33        \n",
      "=================================================================\n",
      "Total params: 15,101\n",
      "Trainable params: 15,101\n",
      "Non-trainable params: 0\n",
      "_________________________________________________________________\n"
     ]
    }
   ],
   "source": [
    "#model summary\n",
    "model.summary()"
   ]
  },
  {
   "cell_type": "code",
   "execution_count": 13,
   "metadata": {},
   "outputs": [
    {
     "name": "stdout",
     "output_type": "stream",
     "text": [
      "Train on 800 samples, validate on 200 samples\n",
      "WARNING:tensorflow:From C:\\Users\\Oladimeji\\Anaconda3\\lib\\site-packages\\tensorflow\\python\\ops\\math_ops.py:3066: to_int32 (from tensorflow.python.ops.math_ops) is deprecated and will be removed in a future version.\n",
      "Instructions for updating:\n",
      "Use tf.cast instead.\n",
      "Epoch 1/25\n",
      " - 6s - loss: 2.4403 - acc: 0.4625 - val_loss: 1.4831 - val_acc: 0.4800\n",
      "Epoch 2/25\n",
      " - 0s - loss: 1.4438 - acc: 0.4625 - val_loss: 1.1728 - val_acc: 0.4800\n",
      "Epoch 3/25\n",
      " - 0s - loss: 1.1795 - acc: 0.4625 - val_loss: 0.9872 - val_acc: 0.4800\n",
      "Epoch 4/25\n",
      " - 0s - loss: 0.9898 - acc: 0.4625 - val_loss: 0.8452 - val_acc: 0.4800\n",
      "Epoch 5/25\n",
      " - 0s - loss: 0.8273 - acc: 0.4550 - val_loss: 0.7384 - val_acc: 0.4800\n",
      "Epoch 6/25\n",
      " - 0s - loss: 0.7373 - acc: 0.3150 - val_loss: 0.6629 - val_acc: 0.3200\n",
      "Epoch 7/25\n",
      " - 0s - loss: 0.6486 - acc: 0.3038 - val_loss: 0.6295 - val_acc: 0.3350\n",
      "Epoch 8/25\n",
      " - 0s - loss: 0.6013 - acc: 0.3038 - val_loss: 0.6199 - val_acc: 0.3350\n",
      "Epoch 9/25\n",
      " - 0s - loss: 0.6002 - acc: 0.3050 - val_loss: 0.6168 - val_acc: 0.3350\n",
      "Epoch 10/25\n",
      " - 0s - loss: 0.5779 - acc: 0.3050 - val_loss: 0.6024 - val_acc: 0.3350\n",
      "Epoch 11/25\n",
      " - 0s - loss: 0.5756 - acc: 0.3050 - val_loss: 0.5930 - val_acc: 0.3350\n",
      "Epoch 12/25\n",
      " - 0s - loss: 0.5650 - acc: 0.3050 - val_loss: 0.5878 - val_acc: 0.3350\n",
      "Epoch 13/25\n",
      " - 0s - loss: 0.5606 - acc: 0.3063 - val_loss: 0.5810 - val_acc: 0.3350\n",
      "Epoch 14/25\n",
      " - 0s - loss: 0.5628 - acc: 0.3063 - val_loss: 0.5751 - val_acc: 0.3350\n",
      "Epoch 15/25\n",
      " - 0s - loss: 0.5611 - acc: 0.3088 - val_loss: 0.5739 - val_acc: 0.3350\n",
      "Epoch 16/25\n",
      " - 0s - loss: 0.5728 - acc: 0.3038 - val_loss: 0.5705 - val_acc: 0.3350\n",
      "Epoch 17/25\n",
      " - 0s - loss: 0.5423 - acc: 0.3063 - val_loss: 0.5735 - val_acc: 0.3300\n",
      "Epoch 18/25\n",
      " - 0s - loss: 0.5572 - acc: 0.3075 - val_loss: 0.4997 - val_acc: 0.3250\n",
      "Epoch 19/25\n",
      " - 0s - loss: 0.5126 - acc: 0.3000 - val_loss: 0.4983 - val_acc: 0.3250\n",
      "Epoch 20/25\n",
      " - 0s - loss: 0.5165 - acc: 0.3038 - val_loss: 0.4994 - val_acc: 0.3250\n",
      "Epoch 21/25\n",
      " - 0s - loss: 0.5117 - acc: 0.3063 - val_loss: 0.5048 - val_acc: 0.3250\n",
      "Epoch 22/25\n",
      " - 0s - loss: 0.5021 - acc: 0.3050 - val_loss: 0.5056 - val_acc: 0.3250\n",
      "Epoch 23/25\n",
      " - 0s - loss: 0.5083 - acc: 0.3038 - val_loss: 0.5066 - val_acc: 0.3250\n",
      "Epoch 24/25\n",
      " - 0s - loss: 0.4985 - acc: 0.3025 - val_loss: 0.5036 - val_acc: 0.3250\n",
      "Epoch 25/25\n",
      " - 0s - loss: 0.4680 - acc: 0.3038 - val_loss: 0.5062 - val_acc: 0.3250\n"
     ]
    },
    {
     "data": {
      "text/plain": [
       "<tensorflow.python.keras.callbacks.History at 0x22ae95f0908>"
      ]
     },
     "execution_count": 13,
     "metadata": {},
     "output_type": "execute_result"
    }
   ],
   "source": [
    "#Training the model on the training set and cross-validating on test set \n",
    "model.fit(x_train_pad, Y_train, batch_size=64, epochs= 25, validation_data=(x_test_pad, Y_test), verbose=2)"
   ]
  },
  {
   "cell_type": "code",
   "execution_count": 14,
   "metadata": {},
   "outputs": [],
   "source": [
    "#Trying to improve using word2vec model. It separately learns word embeddings and then passes to the embedding layer\n",
    "#importing word tokenize and stopwords from nltk library\n",
    "from nltk.tokenize import word_tokenize\n",
    "from nltk.corpus import stopwords\n",
    "\n",
    "headlines = list()\n",
    "lines = list(processed_features)\n",
    "\n",
    "#Creating word tokens, removing stopwords and listing the tokens\n",
    "for line in lines:\n",
    "    tokens = word_tokenize(line)\n",
    "    stop_words = set(stopwords.words('english'))\n",
    "    words = [word for word in tokens if not word in stop_words]\n",
    "    headlines.append(words)"
   ]
  },
  {
   "cell_type": "code",
   "execution_count": 15,
   "metadata": {},
   "outputs": [
    {
     "name": "stderr",
     "output_type": "stream",
     "text": [
      "C:\\Users\\Oladimeji\\Anaconda3\\lib\\site-packages\\gensim\\models\\base_any2vec.py:743: UserWarning: C extension not loaded, training will be slow. Install a C compiler and reinstall gensim for fast training.\n",
      "  \"C extension not loaded, training will be slow. \"\n"
     ]
    }
   ],
   "source": [
    "#Importing gensim to create embeddings\n",
    "import gensim\n",
    "\n",
    "#Creating model through Gensim's Word2Vec API and initializing parameters\n",
    "model_gen = gensim.models.Word2Vec(sentences= headlines, size= EMBEDDING_DIM, window= 5, workers= 4, min_count= 1)\n",
    "\n",
    "#Creating vocabulary list\n",
    "vocabulary = list(model_gen.wv.vocab)"
   ]
  },
  {
   "cell_type": "code",
   "execution_count": 16,
   "metadata": {},
   "outputs": [
    {
     "name": "stdout",
     "output_type": "stream",
     "text": [
      "The Word2Vec Vocabulary size is: 3392\n"
     ]
    }
   ],
   "source": [
    "print(\"The Word2Vec Vocabulary size is:\", len(vocabulary))"
   ]
  },
  {
   "cell_type": "code",
   "execution_count": 17,
   "metadata": {},
   "outputs": [
    {
     "data": {
      "text/plain": [
       "[('frills', 0.349689781665802),\n",
       " ('age', 0.3082854449748993),\n",
       " ('handling', 0.3033483326435089),\n",
       " ('31', 0.29810279607772827),\n",
       " ('assistant', 0.29647305607795715),\n",
       " ('make', 0.28357571363449097),\n",
       " ('cocktail', 0.2736015319824219),\n",
       " ('heist', 0.27144578099250793),\n",
       " ('advantage', 0.2681414783000946),\n",
       " ('administration', 0.2663113474845886)]"
      ]
     },
     "execution_count": 17,
     "metadata": {},
     "output_type": "execute_result"
    }
   ],
   "source": [
    "#Testing for synonyms in the embedding\n",
    "model_gen.wv.most_similar('mexican')"
   ]
  },
  {
   "cell_type": "code",
   "execution_count": 18,
   "metadata": {},
   "outputs": [],
   "source": [
    "#Saving the model for use\n",
    "filename = 'news_headlines_embedding_word2vec.txt'\n",
    "model_gen.wv.save_word2vec_format(filename, binary= False)"
   ]
  },
  {
   "cell_type": "code",
   "execution_count": 19,
   "metadata": {},
   "outputs": [],
   "source": [
    "# Importing the word2vec model \n",
    "import os \n",
    "\n",
    "embeddings_index = {}\n",
    "file = open(os.path.join('', 'news_headlines_embedding_word2vec.txt'), encoding= \"utf-8\")\n",
    "\n",
    "#Creating coefficients for the first word in the sentence\n",
    "for line in file:\n",
    "    values = line.split()\n",
    "    word = values[0]\n",
    "    coefs = np.array(values[1:])\n",
    "    embeddings_index[word] = coefs\n",
    "file.close()"
   ]
  },
  {
   "cell_type": "code",
   "execution_count": 20,
   "metadata": {},
   "outputs": [
    {
     "name": "stdout",
     "output_type": "stream",
     "text": [
      "Found 3392 unique tokens.\n",
      "Shape of headline Tensor: (1000, 1)\n",
      "Shape of label: (1000,)\n"
     ]
    }
   ],
   "source": [
    "#Converting word embeddings into tokenized vector\n",
    "tokenizer_obj = Tokenizer()\n",
    "tokenizer_obj.fit_on_texts(headlines)\n",
    "sequences = tokenizer_obj.texts_to_sequences(headlines)\n",
    "\n",
    "#padding sequences\n",
    "word_index = tokenizer_obj.word_index\n",
    "print('Found %s unique tokens.' % len(word_index))\n",
    "\n",
    "headline_pad = pad_sequences(sequences, maxlen= max_length)\n",
    "print('Shape of headline Tensor:', headline_pad.shape)\n",
    "print('Shape of label:', labels.shape)"
   ]
  },
  {
   "cell_type": "code",
   "execution_count": 21,
   "metadata": {},
   "outputs": [
    {
     "name": "stdout",
     "output_type": "stream",
     "text": [
      "3393\n"
     ]
    }
   ],
   "source": [
    "#Mapping embedding from the word2vec model for each word to the vocabulary and creating a mtrix with word vectors\n",
    "num_words = len(word_index) + 1\n",
    "embedding_matrix = np.zeros((num_words, EMBEDDING_DIM))\n",
    "\n",
    "for word, i in word_index.items():\n",
    "    if i > num_words:\n",
    "        continue\n",
    "    embedding_vector = embeddings_index.get(word)\n",
    "    if embedding_vector is not None:\n",
    "        #words not found in the embedding index will be all-zeros\n",
    "        embedding_matrix[i] = embedding_vector\n",
    "\n",
    "print(num_words)"
   ]
  },
  {
   "cell_type": "code",
   "execution_count": 22,
   "metadata": {},
   "outputs": [],
   "source": [
    "from tensorflow.python.keras.initializers import Constant\n",
    "\n",
    "#Defining model and using the embeddding  matrix as input to the embedding layer\n",
    "model = Sequential()\n",
    "embedding_layer = Embedding(num_words,\n",
    "                           EMBEDDING_DIM,\n",
    "                           embeddings_initializer= Constant(embedding_matrix),\n",
    "                           input_length= max_length,\n",
    "                           trainable= False)#Setting trainable as false since the embedding is already learned\n",
    "model.add(embedding_layer)\n",
    "model.add(GRU(units=32, dropout= 0.2, recurrent_dropout= 0.2))\n",
    "model.add(Dense(1, activation= 'relu'))\n",
    "\n",
    "#Setting model parameters\n",
    "model.compile(loss= 'binary_crossentropy', optimizer= 'adam', metrics= ['accuracy'])"
   ]
  },
  {
   "cell_type": "code",
   "execution_count": 25,
   "metadata": {},
   "outputs": [
    {
     "name": "stdout",
     "output_type": "stream",
     "text": [
      "_________________________________________________________________\n",
      "Layer (type)                 Output Shape              Param #   \n",
      "=================================================================\n",
      "embedding_1 (Embedding)      (None, 1, 100)            339300    \n",
      "_________________________________________________________________\n",
      "gru_1 (GRU)                  (None, 32)                12768     \n",
      "_________________________________________________________________\n",
      "dense_1 (Dense)              (None, 1)                 33        \n",
      "=================================================================\n",
      "Total params: 352,101\n",
      "Trainable params: 12,801\n",
      "Non-trainable params: 339,300\n",
      "_________________________________________________________________\n"
     ]
    }
   ],
   "source": [
    "#Model summary with pre-trained embedding\n",
    "model.summary()"
   ]
  },
  {
   "cell_type": "code",
   "execution_count": 26,
   "metadata": {},
   "outputs": [],
   "source": [
    "#Splitting the data into a training and a validtion set \n",
    "from sklearn.model_selection import train_test_split\n",
    "\n",
    "Y = lb_make.fit_transform(labels)\n",
    "\n",
    "X_train_pad_gen, X_test_pad_gen, y_train_gen, y_test_gen = train_test_split(headline_pad, Y, test_size=0.2, random_state=0)"
   ]
  },
  {
   "cell_type": "code",
   "execution_count": 27,
   "metadata": {},
   "outputs": [
    {
     "name": "stdout",
     "output_type": "stream",
     "text": [
      "Train...\n",
      "Train on 800 samples, validate on 200 samples\n",
      "Epoch 1/25\n",
      " - 5s - loss: 4.4837 - acc: 0.4588 - val_loss: 2.7425 - val_acc: 0.4950\n",
      "Epoch 2/25\n",
      " - 0s - loss: 2.6295 - acc: 0.4588 - val_loss: 2.3825 - val_acc: 0.4950\n",
      "Epoch 3/25\n",
      " - 0s - loss: 2.3391 - acc: 0.4588 - val_loss: 2.1967 - val_acc: 0.4950\n",
      "Epoch 4/25\n",
      " - 0s - loss: 2.1793 - acc: 0.4588 - val_loss: 2.0726 - val_acc: 0.4950\n",
      "Epoch 5/25\n",
      " - 0s - loss: 2.0675 - acc: 0.4588 - val_loss: 1.9774 - val_acc: 0.4950\n",
      "Epoch 6/25\n",
      " - 0s - loss: 1.9769 - acc: 0.4588 - val_loss: 1.8988 - val_acc: 0.4950\n",
      "Epoch 7/25\n",
      " - 0s - loss: 1.9012 - acc: 0.4588 - val_loss: 1.8292 - val_acc: 0.4950\n",
      "Epoch 8/25\n",
      " - 0s - loss: 1.8314 - acc: 0.4588 - val_loss: 1.7659 - val_acc: 0.4950\n",
      "Epoch 9/25\n",
      " - 0s - loss: 1.7688 - acc: 0.4588 - val_loss: 1.7072 - val_acc: 0.4950\n",
      "Epoch 10/25\n",
      " - 0s - loss: 1.7108 - acc: 0.4588 - val_loss: 1.6516 - val_acc: 0.4950\n",
      "Epoch 11/25\n",
      " - 0s - loss: 1.6547 - acc: 0.4588 - val_loss: 1.5994 - val_acc: 0.4950\n",
      "Epoch 12/25\n",
      " - 0s - loss: 1.6024 - acc: 0.4588 - val_loss: 1.5502 - val_acc: 0.4950\n",
      "Epoch 13/25\n",
      " - 0s - loss: 1.5538 - acc: 0.4588 - val_loss: 1.5034 - val_acc: 0.4950\n",
      "Epoch 14/25\n",
      " - 0s - loss: 1.5070 - acc: 0.4588 - val_loss: 1.4591 - val_acc: 0.4950\n",
      "Epoch 15/25\n",
      " - 0s - loss: 1.4628 - acc: 0.4588 - val_loss: 1.4164 - val_acc: 0.4950\n",
      "Epoch 16/25\n",
      " - 0s - loss: 1.4204 - acc: 0.4588 - val_loss: 1.3756 - val_acc: 0.4950\n",
      "Epoch 17/25\n",
      " - 0s - loss: 1.3777 - acc: 0.4588 - val_loss: 1.3371 - val_acc: 0.4950\n",
      "Epoch 18/25\n",
      " - 0s - loss: 1.3398 - acc: 0.4588 - val_loss: 1.2996 - val_acc: 0.4950\n",
      "Epoch 19/25\n",
      " - 0s - loss: 1.3017 - acc: 0.4588 - val_loss: 1.2638 - val_acc: 0.4950\n",
      "Epoch 20/25\n",
      " - 0s - loss: 1.2655 - acc: 0.4588 - val_loss: 1.2293 - val_acc: 0.4950\n",
      "Epoch 21/25\n",
      " - 0s - loss: 1.2309 - acc: 0.4588 - val_loss: 1.1964 - val_acc: 0.4950\n",
      "Epoch 22/25\n",
      " - 0s - loss: 1.1986 - acc: 0.4588 - val_loss: 1.1640 - val_acc: 0.4950\n",
      "Epoch 23/25\n",
      " - 0s - loss: 1.1647 - acc: 0.4588 - val_loss: 1.1325 - val_acc: 0.4950\n",
      "Epoch 24/25\n",
      " - 0s - loss: 1.1329 - acc: 0.4588 - val_loss: 1.1022 - val_acc: 0.4950\n",
      "Epoch 25/25\n",
      " - 0s - loss: 1.1021 - acc: 0.4588 - val_loss: 1.0733 - val_acc: 0.4950\n"
     ]
    },
    {
     "data": {
      "text/plain": [
       "<tensorflow.python.keras.callbacks.History at 0x22aeecbea90>"
      ]
     },
     "execution_count": 27,
     "metadata": {},
     "output_type": "execute_result"
    }
   ],
   "source": [
    "print('Train...')\n",
    "#Training the classification model\n",
    "model.fit(X_train_pad_gen, y_train_gen, batch_size= 128, epochs= 25, validation_data=(X_test_pad_gen, y_test_gen), verbose= 2)"
   ]
  },
  {
   "cell_type": "code",
   "execution_count": 31,
   "metadata": {},
   "outputs": [],
   "source": [
    "#Importing TweetTokenizer and TfidfVectorizer using n-gram approach\n",
    "from nltk import TweetTokenizer\n",
    "from sklearn.feature_extraction.text import TfidfVectorizer\n",
    "\n",
    "tokenizer = TweetTokenizer()\n",
    "vectorizer = TfidfVectorizer(ngram_range = (1, 3), max_df= 0.75, min_df = 5, tokenizer= tokenizer.tokenize)\n",
    "\n",
    "full_text = list(processed_feature)\n",
    "vectorizer.fit(full_text)\n",
    "#Vectorizing the input feature training set \n",
    "train_vectorized = vectorizer.transform(x_train)\n",
    "test_vectorized = vectorizer.transform(x_test)"
   ]
  },
  {
   "cell_type": "code",
   "execution_count": 32,
   "metadata": {},
   "outputs": [
    {
     "name": "stderr",
     "output_type": "stream",
     "text": [
      "C:\\Users\\Oladimeji\\Anaconda3\\lib\\site-packages\\sklearn\\ensemble\\weight_boosting.py:29: DeprecationWarning: numpy.core.umath_tests is an internal NumPy module and should not be imported. It will be removed in a future NumPy release.\n",
      "  from numpy.core.umath_tests import inner1d\n"
     ]
    },
    {
     "name": "stdout",
     "output_type": "stream",
     "text": [
      "OneVsRestClassifier(estimator=LogisticRegression(C=1.0, class_weight='balanced', dual=False,\n",
      "          fit_intercept=True, intercept_scaling=1, max_iter=100,\n",
      "          multi_class='ovr', n_jobs=1, penalty='l2', random_state=None,\n",
      "          solver='liblinear', tol=0.0001, verbose=0, warm_start=False),\n",
      "          n_jobs=1) \n",
      "\n",
      " Cross-validation mean accuracy: 0.47120600007481395\n",
      " Accuracy on Test set: 0.49\n",
      "----------------------------------------------------------------------------------------\n",
      "SVC(C=1.0, cache_size=200, class_weight=None, coef0=0.0,\n",
      "  decision_function_shape='ovr', degree=3, gamma='auto', kernel='linear',\n",
      "  max_iter=-1, probability=False, random_state=None, shrinking=True,\n",
      "  tol=0.001, verbose=False) \n",
      "\n",
      " Cross-validation mean accuracy: 0.4624995324131224\n",
      " Accuracy on Test set: 0.49\n",
      "----------------------------------------------------------------------------------------\n",
      "MultinomialNB(alpha=1.0, class_prior=None, fit_prior=True) \n",
      "\n",
      " Cross-validation mean accuracy: 0.45748700108480156\n",
      " Accuracy on Test set: 0.48\n",
      "----------------------------------------------------------------------------------------\n",
      "RandomForestClassifier(bootstrap=True, class_weight=None, criterion='gini',\n",
      "            max_depth=None, max_features='auto', max_leaf_nodes=None,\n",
      "            min_impurity_decrease=0.0, min_impurity_split=None,\n",
      "            min_samples_leaf=1, min_samples_split=2,\n",
      "            min_weight_fraction_leaf=0.0, n_estimators=300, n_jobs=1,\n",
      "            oob_score=False, random_state=2, verbose=0, warm_start=False) \n",
      "\n",
      " Cross-validation mean accuracy: 0.4624995324131224\n",
      " Accuracy on Test set: 0.49\n",
      "----------------------------------------------------------------------------------------\n"
     ]
    }
   ],
   "source": [
    "#Importing several classifiers\n",
    "from sklearn.linear_model import LogisticRegression\n",
    "from sklearn.multiclass import OneVsRestClassifier\n",
    "from sklearn.ensemble import RandomForestClassifier\n",
    "from sklearn.model_selection import cross_val_score\n",
    "from sklearn.metrics import classification_report, confusion_matrix, accuracy_score\n",
    "from sklearn import model_selection, naive_bayes, svm\n",
    "\n",
    "#Specifying parameters for the classifiers\n",
    "logreg = LogisticRegression(class_weight= 'balanced')\n",
    "ovr = OneVsRestClassifier(logreg)\n",
    "SVM = svm.SVC(C= 1.0, kernel= 'linear', degree = 3, gamma = 'auto')\n",
    "naive = naive_bayes.MultinomialNB()\n",
    "random_forest = RandomForestClassifier(n_estimators=300, random_state=2)\n",
    "\n",
    "text_classifier = [ovr, SVM, naive, random_forest]\n",
    "\n",
    "#Printing Cross-validation and test accuracy to determine better classifier.\n",
    "for clf in text_classifier:\n",
    "    clf.fit(train_vectorized, Y_train)\n",
    "    prediction = clf.predict(test_vectorized)\n",
    "    print(('{} \\n\\n Cross-validation mean accuracy: {}').format(clf, np.mean(cross_val_score(clf, train_vectorized, Y_train, cv=3, scoring = \"accuracy\"))))\n",
    "    print(' Accuracy on Test set: {}'.format(accuracy_score(prediction, Y_test)))\n",
    "    print('----------------------------------------------------------------------------------------')\n"
   ]
  },
  {
   "cell_type": "code",
   "execution_count": 33,
   "metadata": {},
   "outputs": [],
   "source": [
    "#Trying a new approach using max_features and transforming the vectorized features into an array\n",
    "vectorizer = TfidfVectorizer(max_features=2500, min_df=10, max_df=0.8, stop_words=stopwords.words('english'))\n",
    "processed_features_transformed = vectorizer.fit_transform(processed_features).toarray()"
   ]
  },
  {
   "cell_type": "code",
   "execution_count": 34,
   "metadata": {},
   "outputs": [],
   "source": [
    "#Splitting the vectorized features array and label encoded labels into training and test sets\n",
    "X_train, X_test, y_train, y_test = train_test_split(processed_features_transformed, labels, test_size=0.2, random_state=2)"
   ]
  },
  {
   "cell_type": "code",
   "execution_count": 35,
   "metadata": {},
   "outputs": [
    {
     "name": "stdout",
     "output_type": "stream",
     "text": [
      "OneVsRestClassifier(estimator=LogisticRegression(C=1.0, class_weight='balanced', dual=False,\n",
      "          fit_intercept=True, intercept_scaling=1, max_iter=100,\n",
      "          multi_class='ovr', n_jobs=1, penalty='l2', random_state=None,\n",
      "          solver='liblinear', tol=0.0001, verbose=0, warm_start=False),\n",
      "          n_jobs=1) \n",
      "\n",
      " Cross-validation mean accuracy: 0.5037500467586877\n",
      " Accuracy on Test set: 0.53\n",
      "\n",
      " Classification Report: \n",
      "             precision    recall  f1-score   support\n",
      "\n",
      "       Even       0.57      0.57      0.57        87\n",
      "   Negative       0.46      0.49      0.47        57\n",
      "   Positive       0.54      0.50      0.52        56\n",
      "\n",
      "avg / total       0.53      0.53      0.53       200\n",
      "\n",
      "----------------------------------------------------------------------------------------\n",
      "SVC(C=1.0, cache_size=200, class_weight=None, coef0=0.0,\n",
      "  decision_function_shape='ovr', degree=3, gamma='auto', kernel='linear',\n",
      "  max_iter=-1, probability=False, random_state=None, shrinking=True,\n",
      "  tol=0.001, verbose=False) \n",
      "\n",
      " Cross-validation mean accuracy: 0.49996259304978863\n",
      " Accuracy on Test set: 0.515\n",
      "\n",
      " Classification Report: \n",
      "             precision    recall  f1-score   support\n",
      "\n",
      "       Even       0.83      0.52      0.64       138\n",
      "   Negative       0.34      0.51      0.41        41\n",
      "   Positive       0.19      0.48      0.27        21\n",
      "\n",
      "avg / total       0.66      0.52      0.55       200\n",
      "\n",
      "----------------------------------------------------------------------------------------\n",
      "MultinomialNB(alpha=1.0, class_prior=None, fit_prior=True) \n",
      "\n",
      " Cross-validation mean accuracy: 0.5199753114128605\n",
      " Accuracy on Test set: 0.525\n",
      "\n",
      " Classification Report: \n",
      "             precision    recall  f1-score   support\n",
      "\n",
      "       Even       0.84      0.51      0.64       142\n",
      "   Negative       0.33      0.48      0.39        42\n",
      "   Positive       0.23      0.75      0.35        16\n",
      "\n",
      "avg / total       0.68      0.53      0.56       200\n",
      "\n",
      "----------------------------------------------------------------------------------------\n",
      "RandomForestClassifier(bootstrap=True, class_weight=None, criterion='gini',\n",
      "            max_depth=None, max_features='auto', max_leaf_nodes=None,\n",
      "            min_impurity_decrease=0.0, min_impurity_split=None,\n",
      "            min_samples_leaf=1, min_samples_split=2,\n",
      "            min_weight_fraction_leaf=0.0, n_estimators=300, n_jobs=1,\n",
      "            oob_score=False, random_state=2, verbose=0, warm_start=False) \n",
      "\n",
      " Cross-validation mean accuracy: 0.49880297759323683\n",
      " Accuracy on Test set: 0.52\n",
      "\n",
      " Classification Report: \n",
      "             precision    recall  f1-score   support\n",
      "\n",
      "       Even       0.71      0.56      0.63       111\n",
      "   Negative       0.43      0.47      0.45        55\n",
      "   Positive       0.31      0.47      0.37        34\n",
      "\n",
      "avg / total       0.57      0.52      0.53       200\n",
      "\n",
      "----------------------------------------------------------------------------------------\n"
     ]
    }
   ],
   "source": [
    "#Determining the best classifier\n",
    "for clf in text_classifier:\n",
    "    clf.fit(X_train, y_train)\n",
    "    prediction = clf.predict(X_test)\n",
    "    print(('{} \\n\\n Cross-validation mean accuracy: {}').format(clf, np.mean(cross_val_score(clf, X_train, y_train, cv=3, scoring = \"accuracy\"))))\n",
    "    print(' Accuracy on Test set: {}'.format(accuracy_score(prediction, y_test)))\n",
    "    print('\\n Classification Report: \\n{}'.format(classification_report(prediction, y_test)))\n",
    "    print('----------------------------------------------------------------------------------------')\n"
   ]
  }
 ],
 "metadata": {
  "kernelspec": {
   "display_name": "Python 3",
   "language": "python",
   "name": "python3"
  },
  "language_info": {
   "codemirror_mode": {
    "name": "ipython",
    "version": 3
   },
   "file_extension": ".py",
   "mimetype": "text/x-python",
   "name": "python",
   "nbconvert_exporter": "python",
   "pygments_lexer": "ipython3",
   "version": "3.6.5"
  }
 },
 "nbformat": 4,
 "nbformat_minor": 2
}
